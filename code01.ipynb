{
  "cells": [
    {
      "cell_type": "code",
      "execution_count": 1,
      "metadata": {
        "trusted": true
      },
      "outputs": [],
      "source": [
        "#import required libraries\n",
        "import pandas as pd\n",
        "import numpy as np\n",
        "import matplotlib.pyplot as plt"
      ]
    },
    {
      "cell_type": "code",
      "execution_count": 2,
      "metadata": {
        "trusted": true
      },
      "outputs": [],
      "source": [
        "# datasetName = effects-of-covid-19-on-trade-at-15-december-2021-provisional.csv\n",
        "df=pd.read_csv('dataset.csv')"
      ]
    },
    {
      "cell_type": "code",
      "execution_count": 3,
      "metadata": {
        "trusted": true
      },
      "outputs": [
        {
          "name": "stdout",
          "output_type": "stream",
          "text": [
            "                                              ood manufactured goods  All  $  \\\n",
            "Imports   2021 16/01/2021 Saturday  All  Non-food manufactured goods  All  $   \n",
            "               17/01/2021 Sunday    All  Non-food manufactured goods  All  $   \n",
            "               18/01/2021 Monday    All  Non-food manufactured goods  All  $   \n",
            "               19/01/2021 Tuesday   All  Non-food manufactured goods  All  $   \n",
            "               20/01/2021 Wednesday All  Non-food manufactured goods  All  $   \n",
            "...                                                              ...  ... ..   \n",
            "Reimports 2021 11/12/2021 Saturday  All                          All  All  $   \n",
            "               12/12/2021 Sunday    All                          All  All  $   \n",
            "               13/12/2021 Monday    All                          All  All  $   \n",
            "               14/12/2021 Tuesday   All                          All  All  $   \n",
            "               15/12/2021 Wednesday All                          All  All  $   \n",
            "\n",
            "                                         200000000  1829000000  \n",
            "Imports   2021 16/01/2021 Saturday  All   26000000  1855000000  \n",
            "               17/01/2021 Sunday    All   30000000  1885000000  \n",
            "               18/01/2021 Monday    All  197000000  2082000000  \n",
            "               19/01/2021 Tuesday   All  195000000  2277000000  \n",
            "               20/01/2021 Wednesday All  155000000  2431000000  \n",
            "...                                            ...         ...  \n",
            "Reimports 2021 11/12/2021 Saturday  All          0   165000000  \n",
            "               12/12/2021 Sunday    All          0   165000000  \n",
            "               13/12/2021 Monday    All    2000000   166000000  \n",
            "               14/12/2021 Tuesday   All    1000000   167000000  \n",
            "               15/12/2021 Wednesday All    1000000   168000000  \n",
            "\n",
            "[680 rows x 5 columns]\n"
          ]
        }
      ],
      "source": [
        "print(df)"
      ]
    },
    {
      "cell_type": "code",
      "execution_count": 4,
      "metadata": {
        "trusted": true
      },
      "outputs": [
        {
          "data": {
            "text/html": [
              "<div>\n",
              "<style scoped>\n",
              "    .dataframe tbody tr th:only-of-type {\n",
              "        vertical-align: middle;\n",
              "    }\n",
              "\n",
              "    .dataframe tbody tr th {\n",
              "        vertical-align: top;\n",
              "    }\n",
              "\n",
              "    .dataframe thead th {\n",
              "        text-align: right;\n",
              "    }\n",
              "</style>\n",
              "<table border=\"1\" class=\"dataframe\">\n",
              "  <thead>\n",
              "    <tr style=\"text-align: right;\">\n",
              "      <th></th>\n",
              "      <th>200000000</th>\n",
              "      <th>1829000000</th>\n",
              "    </tr>\n",
              "  </thead>\n",
              "  <tbody>\n",
              "    <tr>\n",
              "      <th>count</th>\n",
              "      <td>6.800000e+02</td>\n",
              "      <td>6.800000e+02</td>\n",
              "    </tr>\n",
              "    <tr>\n",
              "      <th>mean</th>\n",
              "      <td>7.425147e+07</td>\n",
              "      <td>1.244509e+10</td>\n",
              "    </tr>\n",
              "    <tr>\n",
              "      <th>std</th>\n",
              "      <td>9.800598e+07</td>\n",
              "      <td>1.616584e+10</td>\n",
              "    </tr>\n",
              "    <tr>\n",
              "      <th>min</th>\n",
              "      <td>0.000000e+00</td>\n",
              "      <td>0.000000e+00</td>\n",
              "    </tr>\n",
              "    <tr>\n",
              "      <th>25%</th>\n",
              "      <td>0.000000e+00</td>\n",
              "      <td>8.075000e+07</td>\n",
              "    </tr>\n",
              "    <tr>\n",
              "      <th>50%</th>\n",
              "      <td>2.000000e+06</td>\n",
              "      <td>1.640000e+08</td>\n",
              "    </tr>\n",
              "    <tr>\n",
              "      <th>75%</th>\n",
              "      <td>1.762500e+08</td>\n",
              "      <td>2.369100e+10</td>\n",
              "    </tr>\n",
              "    <tr>\n",
              "      <th>max</th>\n",
              "      <td>3.960000e+08</td>\n",
              "      <td>5.217700e+10</td>\n",
              "    </tr>\n",
              "  </tbody>\n",
              "</table>\n",
              "</div>"
            ],
            "text/plain": [
              "          200000000    1829000000\n",
              "count  6.800000e+02  6.800000e+02\n",
              "mean   7.425147e+07  1.244509e+10\n",
              "std    9.800598e+07  1.616584e+10\n",
              "min    0.000000e+00  0.000000e+00\n",
              "25%    0.000000e+00  8.075000e+07\n",
              "50%    2.000000e+06  1.640000e+08\n",
              "75%    1.762500e+08  2.369100e+10\n",
              "max    3.960000e+08  5.217700e+10"
            ]
          },
          "execution_count": 4,
          "metadata": {},
          "output_type": "execute_result"
        }
      ],
      "source": [
        "df.describe()"
      ]
    },
    {
      "cell_type": "code",
      "execution_count": 5,
      "metadata": {
        "trusted": true
      },
      "outputs": [
        {
          "name": "stdout",
          "output_type": "stream",
          "text": [
            "<class 'pandas.core.frame.DataFrame'>\n",
            "MultiIndex: 680 entries, ('Imports', 2021, '16/01/2021', 'Saturday', 'All') to ('Reimports', 2021, '15/12/2021', 'Wednesday', 'All')\n",
            "Data columns (total 5 columns):\n",
            " #   Column                  Non-Null Count  Dtype \n",
            "---  ------                  --------------  ----- \n",
            " 0   ood manufactured goods  680 non-null    object\n",
            " 1   All                     680 non-null    object\n",
            " 2   $                       680 non-null    object\n",
            " 3   200000000               680 non-null    int64 \n",
            " 4   1829000000              680 non-null    int64 \n",
            "dtypes: int64(2), object(3)\n",
            "memory usage: 28.5+ KB\n"
          ]
        }
      ],
      "source": [
        "\n",
        "df.info()"
      ]
    },
    {
      "cell_type": "code",
      "execution_count": 6,
      "metadata": {
        "trusted": true
      },
      "outputs": [
        {
          "data": {
            "text/html": [
              "<div>\n",
              "<style scoped>\n",
              "    .dataframe tbody tr th:only-of-type {\n",
              "        vertical-align: middle;\n",
              "    }\n",
              "\n",
              "    .dataframe tbody tr th {\n",
              "        vertical-align: top;\n",
              "    }\n",
              "\n",
              "    .dataframe thead th {\n",
              "        text-align: right;\n",
              "    }\n",
              "</style>\n",
              "<table border=\"1\" class=\"dataframe\">\n",
              "  <thead>\n",
              "    <tr style=\"text-align: right;\">\n",
              "      <th></th>\n",
              "      <th></th>\n",
              "      <th></th>\n",
              "      <th></th>\n",
              "      <th></th>\n",
              "      <th>ood manufactured goods</th>\n",
              "      <th>All</th>\n",
              "      <th>$</th>\n",
              "      <th>200000000</th>\n",
              "      <th>1829000000</th>\n",
              "    </tr>\n",
              "  </thead>\n",
              "  <tbody>\n",
              "    <tr>\n",
              "      <th rowspan=\"5\" valign=\"top\">Imports</th>\n",
              "      <th rowspan=\"5\" valign=\"top\">2021</th>\n",
              "      <th>16/01/2021</th>\n",
              "      <th>Saturday</th>\n",
              "      <th>All</th>\n",
              "      <td>Non-food manufactured goods</td>\n",
              "      <td>All</td>\n",
              "      <td>$</td>\n",
              "      <td>26000000</td>\n",
              "      <td>1855000000</td>\n",
              "    </tr>\n",
              "    <tr>\n",
              "      <th>17/01/2021</th>\n",
              "      <th>Sunday</th>\n",
              "      <th>All</th>\n",
              "      <td>Non-food manufactured goods</td>\n",
              "      <td>All</td>\n",
              "      <td>$</td>\n",
              "      <td>30000000</td>\n",
              "      <td>1885000000</td>\n",
              "    </tr>\n",
              "    <tr>\n",
              "      <th>18/01/2021</th>\n",
              "      <th>Monday</th>\n",
              "      <th>All</th>\n",
              "      <td>Non-food manufactured goods</td>\n",
              "      <td>All</td>\n",
              "      <td>$</td>\n",
              "      <td>197000000</td>\n",
              "      <td>2082000000</td>\n",
              "    </tr>\n",
              "    <tr>\n",
              "      <th>19/01/2021</th>\n",
              "      <th>Tuesday</th>\n",
              "      <th>All</th>\n",
              "      <td>Non-food manufactured goods</td>\n",
              "      <td>All</td>\n",
              "      <td>$</td>\n",
              "      <td>195000000</td>\n",
              "      <td>2277000000</td>\n",
              "    </tr>\n",
              "    <tr>\n",
              "      <th>20/01/2021</th>\n",
              "      <th>Wednesday</th>\n",
              "      <th>All</th>\n",
              "      <td>Non-food manufactured goods</td>\n",
              "      <td>All</td>\n",
              "      <td>$</td>\n",
              "      <td>155000000</td>\n",
              "      <td>2431000000</td>\n",
              "    </tr>\n",
              "  </tbody>\n",
              "</table>\n",
              "</div>"
            ],
            "text/plain": [
              "                                            ood manufactured goods  All  $  \\\n",
              "Imports 2021 16/01/2021 Saturday  All  Non-food manufactured goods  All  $   \n",
              "             17/01/2021 Sunday    All  Non-food manufactured goods  All  $   \n",
              "             18/01/2021 Monday    All  Non-food manufactured goods  All  $   \n",
              "             19/01/2021 Tuesday   All  Non-food manufactured goods  All  $   \n",
              "             20/01/2021 Wednesday All  Non-food manufactured goods  All  $   \n",
              "\n",
              "                                       200000000  1829000000  \n",
              "Imports 2021 16/01/2021 Saturday  All   26000000  1855000000  \n",
              "             17/01/2021 Sunday    All   30000000  1885000000  \n",
              "             18/01/2021 Monday    All  197000000  2082000000  \n",
              "             19/01/2021 Tuesday   All  195000000  2277000000  \n",
              "             20/01/2021 Wednesday All  155000000  2431000000  "
            ]
          },
          "execution_count": 6,
          "metadata": {},
          "output_type": "execute_result"
        }
      ],
      "source": [
        "#displays first five rows of the dataset\n",
        "df.head()"
      ]
    },
    {
      "cell_type": "code",
      "execution_count": 7,
      "metadata": {
        "trusted": true
      },
      "outputs": [
        {
          "data": {
            "text/plain": [
              "ood manufactured goods    0\n",
              "All                       0\n",
              "$                         0\n",
              "200000000                 0\n",
              "1829000000                0\n",
              "dtype: int64"
            ]
          },
          "execution_count": 7,
          "metadata": {},
          "output_type": "execute_result"
        }
      ],
      "source": [
        "#cleaning\n",
        "df.isnull().sum()"
      ]
    },
    {
      "cell_type": "code",
      "execution_count": 8,
      "metadata": {
        "trusted": true
      },
      "outputs": [],
      "source": [
        "#to replace missing values\n",
        "data1=df.fillna(method=\"ffill\")"
      ]
    },
    {
      "cell_type": "code",
      "execution_count": 9,
      "metadata": {
        "trusted": true
      },
      "outputs": [
        {
          "data": {
            "text/plain": [
              "ood manufactured goods    0\n",
              "All                       0\n",
              "$                         0\n",
              "200000000                 0\n",
              "1829000000                0\n",
              "dtype: int64"
            ]
          },
          "execution_count": 9,
          "metadata": {},
          "output_type": "execute_result"
        }
      ],
      "source": [
        "#To check whether the valuies are replaced\n",
        "data1.isnull().sum()"
      ]
    },
    {
      "cell_type": "code",
      "execution_count": 10,
      "metadata": {
        "trusted": true
      },
      "outputs": [
        {
          "data": {
            "text/html": [
              "<div>\n",
              "<style scoped>\n",
              "    .dataframe tbody tr th:only-of-type {\n",
              "        vertical-align: middle;\n",
              "    }\n",
              "\n",
              "    .dataframe tbody tr th {\n",
              "        vertical-align: top;\n",
              "    }\n",
              "\n",
              "    .dataframe thead th {\n",
              "        text-align: right;\n",
              "    }\n",
              "</style>\n",
              "<table border=\"1\" class=\"dataframe\">\n",
              "  <thead>\n",
              "    <tr style=\"text-align: right;\">\n",
              "      <th></th>\n",
              "      <th></th>\n",
              "      <th></th>\n",
              "      <th></th>\n",
              "      <th></th>\n",
              "      <th>ood manufactured goods</th>\n",
              "      <th>All</th>\n",
              "      <th>$</th>\n",
              "      <th>200000000</th>\n",
              "      <th>1829000000</th>\n",
              "    </tr>\n",
              "  </thead>\n",
              "  <tbody>\n",
              "    <tr>\n",
              "      <th rowspan=\"5\" valign=\"top\">Imports</th>\n",
              "      <th rowspan=\"5\" valign=\"top\">2021</th>\n",
              "      <th>16/01/2021</th>\n",
              "      <th>Saturday</th>\n",
              "      <th>All</th>\n",
              "      <td>Non-food manufactured goods</td>\n",
              "      <td>All</td>\n",
              "      <td>$</td>\n",
              "      <td>26000000</td>\n",
              "      <td>1855000000</td>\n",
              "    </tr>\n",
              "    <tr>\n",
              "      <th>17/01/2021</th>\n",
              "      <th>Sunday</th>\n",
              "      <th>All</th>\n",
              "      <td>Non-food manufactured goods</td>\n",
              "      <td>All</td>\n",
              "      <td>$</td>\n",
              "      <td>30000000</td>\n",
              "      <td>1885000000</td>\n",
              "    </tr>\n",
              "    <tr>\n",
              "      <th>18/01/2021</th>\n",
              "      <th>Monday</th>\n",
              "      <th>All</th>\n",
              "      <td>Non-food manufactured goods</td>\n",
              "      <td>All</td>\n",
              "      <td>$</td>\n",
              "      <td>197000000</td>\n",
              "      <td>2082000000</td>\n",
              "    </tr>\n",
              "    <tr>\n",
              "      <th>19/01/2021</th>\n",
              "      <th>Tuesday</th>\n",
              "      <th>All</th>\n",
              "      <td>Non-food manufactured goods</td>\n",
              "      <td>All</td>\n",
              "      <td>$</td>\n",
              "      <td>195000000</td>\n",
              "      <td>2277000000</td>\n",
              "    </tr>\n",
              "    <tr>\n",
              "      <th>20/01/2021</th>\n",
              "      <th>Wednesday</th>\n",
              "      <th>All</th>\n",
              "      <td>Non-food manufactured goods</td>\n",
              "      <td>All</td>\n",
              "      <td>$</td>\n",
              "      <td>155000000</td>\n",
              "      <td>2431000000</td>\n",
              "    </tr>\n",
              "  </tbody>\n",
              "</table>\n",
              "</div>"
            ],
            "text/plain": [
              "                                            ood manufactured goods  All  $  \\\n",
              "Imports 2021 16/01/2021 Saturday  All  Non-food manufactured goods  All  $   \n",
              "             17/01/2021 Sunday    All  Non-food manufactured goods  All  $   \n",
              "             18/01/2021 Monday    All  Non-food manufactured goods  All  $   \n",
              "             19/01/2021 Tuesday   All  Non-food manufactured goods  All  $   \n",
              "             20/01/2021 Wednesday All  Non-food manufactured goods  All  $   \n",
              "\n",
              "                                       200000000  1829000000  \n",
              "Imports 2021 16/01/2021 Saturday  All   26000000  1855000000  \n",
              "             17/01/2021 Sunday    All   30000000  1885000000  \n",
              "             18/01/2021 Monday    All  197000000  2082000000  \n",
              "             19/01/2021 Tuesday   All  195000000  2277000000  \n",
              "             20/01/2021 Wednesday All  155000000  2431000000  "
            ]
          },
          "execution_count": 10,
          "metadata": {},
          "output_type": "execute_result"
        }
      ],
      "source": [
        "df.head()"
      ]
    },
    {
      "cell_type": "code",
      "execution_count": 11,
      "metadata": {
        "trusted": true
      },
      "outputs": [],
      "source": [
        "#reduction\n",
        "\n",
        "cols=['200000000','1829000000']\n",
        "df = df.drop(cols, axis=1)"
      ]
    },
    {
      "cell_type": "code",
      "execution_count": 12,
      "metadata": {
        "trusted": true
      },
      "outputs": [
        {
          "name": "stdout",
          "output_type": "stream",
          "text": [
            "                                              ood manufactured goods  All  $\n",
            "Imports   2021 16/01/2021 Saturday  All  Non-food manufactured goods  All  $\n",
            "               17/01/2021 Sunday    All  Non-food manufactured goods  All  $\n",
            "               18/01/2021 Monday    All  Non-food manufactured goods  All  $\n",
            "               19/01/2021 Tuesday   All  Non-food manufactured goods  All  $\n",
            "               20/01/2021 Wednesday All  Non-food manufactured goods  All  $\n",
            "...                                                              ...  ... ..\n",
            "Reimports 2021 11/12/2021 Saturday  All                          All  All  $\n",
            "               12/12/2021 Sunday    All                          All  All  $\n",
            "               13/12/2021 Monday    All                          All  All  $\n",
            "               14/12/2021 Tuesday   All                          All  All  $\n",
            "               15/12/2021 Wednesday All                          All  All  $\n",
            "\n",
            "[680 rows x 3 columns]\n"
          ]
        }
      ],
      "source": [
        "print(df)"
      ]
    },
    {
      "cell_type": "code",
      "execution_count": 13,
      "metadata": {
        "trusted": true
      },
      "outputs": [
        {
          "data": {
            "text/html": [
              "<div>\n",
              "<style scoped>\n",
              "    .dataframe tbody tr th:only-of-type {\n",
              "        vertical-align: middle;\n",
              "    }\n",
              "\n",
              "    .dataframe tbody tr th {\n",
              "        vertical-align: top;\n",
              "    }\n",
              "\n",
              "    .dataframe thead th {\n",
              "        text-align: right;\n",
              "    }\n",
              "</style>\n",
              "<table border=\"1\" class=\"dataframe\">\n",
              "  <thead>\n",
              "    <tr style=\"text-align: right;\">\n",
              "      <th></th>\n",
              "      <th></th>\n",
              "      <th></th>\n",
              "      <th></th>\n",
              "      <th></th>\n",
              "      <th>ood manufactured goods</th>\n",
              "      <th>All</th>\n",
              "      <th>$</th>\n",
              "      <th>200000000</th>\n",
              "      <th>1829000000</th>\n",
              "    </tr>\n",
              "  </thead>\n",
              "  <tbody>\n",
              "    <tr>\n",
              "      <th rowspan=\"5\" valign=\"top\">Imports</th>\n",
              "      <th rowspan=\"5\" valign=\"top\">2021</th>\n",
              "      <th>16/01/2021</th>\n",
              "      <th>Saturday</th>\n",
              "      <th>All</th>\n",
              "      <td>Non-food manufactured goods</td>\n",
              "      <td>All</td>\n",
              "      <td>$</td>\n",
              "      <td>26000000</td>\n",
              "      <td>1855000000</td>\n",
              "    </tr>\n",
              "    <tr>\n",
              "      <th>17/01/2021</th>\n",
              "      <th>Sunday</th>\n",
              "      <th>All</th>\n",
              "      <td>Non-food manufactured goods</td>\n",
              "      <td>All</td>\n",
              "      <td>$</td>\n",
              "      <td>30000000</td>\n",
              "      <td>1885000000</td>\n",
              "    </tr>\n",
              "    <tr>\n",
              "      <th>18/01/2021</th>\n",
              "      <th>Monday</th>\n",
              "      <th>All</th>\n",
              "      <td>Non-food manufactured goods</td>\n",
              "      <td>All</td>\n",
              "      <td>$</td>\n",
              "      <td>197000000</td>\n",
              "      <td>2082000000</td>\n",
              "    </tr>\n",
              "    <tr>\n",
              "      <th>19/01/2021</th>\n",
              "      <th>Tuesday</th>\n",
              "      <th>All</th>\n",
              "      <td>Non-food manufactured goods</td>\n",
              "      <td>All</td>\n",
              "      <td>$</td>\n",
              "      <td>195000000</td>\n",
              "      <td>2277000000</td>\n",
              "    </tr>\n",
              "    <tr>\n",
              "      <th>20/01/2021</th>\n",
              "      <th>Wednesday</th>\n",
              "      <th>All</th>\n",
              "      <td>Non-food manufactured goods</td>\n",
              "      <td>All</td>\n",
              "      <td>$</td>\n",
              "      <td>155000000</td>\n",
              "      <td>2431000000</td>\n",
              "    </tr>\n",
              "  </tbody>\n",
              "</table>\n",
              "</div>"
            ],
            "text/plain": [
              "                                            ood manufactured goods  All  $  \\\n",
              "Imports 2021 16/01/2021 Saturday  All  Non-food manufactured goods  All  $   \n",
              "             17/01/2021 Sunday    All  Non-food manufactured goods  All  $   \n",
              "             18/01/2021 Monday    All  Non-food manufactured goods  All  $   \n",
              "             19/01/2021 Tuesday   All  Non-food manufactured goods  All  $   \n",
              "             20/01/2021 Wednesday All  Non-food manufactured goods  All  $   \n",
              "\n",
              "                                       200000000  1829000000  \n",
              "Imports 2021 16/01/2021 Saturday  All   26000000  1855000000  \n",
              "             17/01/2021 Sunday    All   30000000  1885000000  \n",
              "             18/01/2021 Monday    All  197000000  2082000000  \n",
              "             19/01/2021 Tuesday   All  195000000  2277000000  \n",
              "             20/01/2021 Wednesday All  155000000  2431000000  "
            ]
          },
          "execution_count": 13,
          "metadata": {},
          "output_type": "execute_result"
        }
      ],
      "source": [
        "#Transformation\n",
        "\n",
        "data1.head()"
      ]
    },
    {
      "cell_type": "code",
      "execution_count": 14,
      "metadata": {
        "trusted": true
      },
      "outputs": [],
      "source": [
        "dummy=pd.get_dummies(data1['All'])"
      ]
    },
    {
      "cell_type": "code",
      "execution_count": 15,
      "metadata": {
        "trusted": true
      },
      "outputs": [
        {
          "data": {
            "text/html": [
              "<div>\n",
              "<style scoped>\n",
              "    .dataframe tbody tr th:only-of-type {\n",
              "        vertical-align: middle;\n",
              "    }\n",
              "\n",
              "    .dataframe tbody tr th {\n",
              "        vertical-align: top;\n",
              "    }\n",
              "\n",
              "    .dataframe thead th {\n",
              "        text-align: right;\n",
              "    }\n",
              "</style>\n",
              "<table border=\"1\" class=\"dataframe\">\n",
              "  <thead>\n",
              "    <tr style=\"text-align: right;\">\n",
              "      <th></th>\n",
              "      <th></th>\n",
              "      <th></th>\n",
              "      <th></th>\n",
              "      <th></th>\n",
              "      <th>All</th>\n",
              "    </tr>\n",
              "  </thead>\n",
              "  <tbody>\n",
              "    <tr>\n",
              "      <th rowspan=\"5\" valign=\"top\">Imports</th>\n",
              "      <th rowspan=\"5\" valign=\"top\">2021</th>\n",
              "      <th>16/01/2021</th>\n",
              "      <th>Saturday</th>\n",
              "      <th>All</th>\n",
              "      <td>1</td>\n",
              "    </tr>\n",
              "    <tr>\n",
              "      <th>17/01/2021</th>\n",
              "      <th>Sunday</th>\n",
              "      <th>All</th>\n",
              "      <td>1</td>\n",
              "    </tr>\n",
              "    <tr>\n",
              "      <th>18/01/2021</th>\n",
              "      <th>Monday</th>\n",
              "      <th>All</th>\n",
              "      <td>1</td>\n",
              "    </tr>\n",
              "    <tr>\n",
              "      <th>19/01/2021</th>\n",
              "      <th>Tuesday</th>\n",
              "      <th>All</th>\n",
              "      <td>1</td>\n",
              "    </tr>\n",
              "    <tr>\n",
              "      <th>20/01/2021</th>\n",
              "      <th>Wednesday</th>\n",
              "      <th>All</th>\n",
              "      <td>1</td>\n",
              "    </tr>\n",
              "    <tr>\n",
              "      <th>...</th>\n",
              "      <th>...</th>\n",
              "      <th>...</th>\n",
              "      <th>...</th>\n",
              "      <th>...</th>\n",
              "      <td>...</td>\n",
              "    </tr>\n",
              "    <tr>\n",
              "      <th rowspan=\"5\" valign=\"top\">Reimports</th>\n",
              "      <th rowspan=\"5\" valign=\"top\">2021</th>\n",
              "      <th>11/12/2021</th>\n",
              "      <th>Saturday</th>\n",
              "      <th>All</th>\n",
              "      <td>1</td>\n",
              "    </tr>\n",
              "    <tr>\n",
              "      <th>12/12/2021</th>\n",
              "      <th>Sunday</th>\n",
              "      <th>All</th>\n",
              "      <td>1</td>\n",
              "    </tr>\n",
              "    <tr>\n",
              "      <th>13/12/2021</th>\n",
              "      <th>Monday</th>\n",
              "      <th>All</th>\n",
              "      <td>1</td>\n",
              "    </tr>\n",
              "    <tr>\n",
              "      <th>14/12/2021</th>\n",
              "      <th>Tuesday</th>\n",
              "      <th>All</th>\n",
              "      <td>1</td>\n",
              "    </tr>\n",
              "    <tr>\n",
              "      <th>15/12/2021</th>\n",
              "      <th>Wednesday</th>\n",
              "      <th>All</th>\n",
              "      <td>1</td>\n",
              "    </tr>\n",
              "  </tbody>\n",
              "</table>\n",
              "<p>680 rows × 1 columns</p>\n",
              "</div>"
            ],
            "text/plain": [
              "                                         All\n",
              "Imports   2021 16/01/2021 Saturday  All    1\n",
              "               17/01/2021 Sunday    All    1\n",
              "               18/01/2021 Monday    All    1\n",
              "               19/01/2021 Tuesday   All    1\n",
              "               20/01/2021 Wednesday All    1\n",
              "...                                      ...\n",
              "Reimports 2021 11/12/2021 Saturday  All    1\n",
              "               12/12/2021 Sunday    All    1\n",
              "               13/12/2021 Monday    All    1\n",
              "               14/12/2021 Tuesday   All    1\n",
              "               15/12/2021 Wednesday All    1\n",
              "\n",
              "[680 rows x 1 columns]"
            ]
          },
          "execution_count": 15,
          "metadata": {},
          "output_type": "execute_result"
        }
      ],
      "source": [
        "dummy"
      ]
    },
    {
      "cell_type": "code",
      "execution_count": 16,
      "metadata": {
        "trusted": true
      },
      "outputs": [],
      "source": [
        "data2=pd.concat((data1,dummy),axis=1)"
      ]
    },
    {
      "cell_type": "code",
      "execution_count": 17,
      "metadata": {
        "trusted": true
      },
      "outputs": [],
      "source": [
        "data2=data2.drop(['All'],axis=1)"
      ]
    },
    {
      "cell_type": "code",
      "execution_count": 18,
      "metadata": {
        "trusted": true
      },
      "outputs": [
        {
          "data": {
            "text/html": [
              "<div>\n",
              "<style scoped>\n",
              "    .dataframe tbody tr th:only-of-type {\n",
              "        vertical-align: middle;\n",
              "    }\n",
              "\n",
              "    .dataframe tbody tr th {\n",
              "        vertical-align: top;\n",
              "    }\n",
              "\n",
              "    .dataframe thead th {\n",
              "        text-align: right;\n",
              "    }\n",
              "</style>\n",
              "<table border=\"1\" class=\"dataframe\">\n",
              "  <thead>\n",
              "    <tr style=\"text-align: right;\">\n",
              "      <th></th>\n",
              "      <th></th>\n",
              "      <th></th>\n",
              "      <th></th>\n",
              "      <th></th>\n",
              "      <th>ood manufactured goods</th>\n",
              "      <th>$</th>\n",
              "      <th>200000000</th>\n",
              "      <th>1829000000</th>\n",
              "    </tr>\n",
              "  </thead>\n",
              "  <tbody>\n",
              "    <tr>\n",
              "      <th rowspan=\"5\" valign=\"top\">Imports</th>\n",
              "      <th rowspan=\"5\" valign=\"top\">2021</th>\n",
              "      <th>16/01/2021</th>\n",
              "      <th>Saturday</th>\n",
              "      <th>All</th>\n",
              "      <td>Non-food manufactured goods</td>\n",
              "      <td>$</td>\n",
              "      <td>26000000</td>\n",
              "      <td>1855000000</td>\n",
              "    </tr>\n",
              "    <tr>\n",
              "      <th>17/01/2021</th>\n",
              "      <th>Sunday</th>\n",
              "      <th>All</th>\n",
              "      <td>Non-food manufactured goods</td>\n",
              "      <td>$</td>\n",
              "      <td>30000000</td>\n",
              "      <td>1885000000</td>\n",
              "    </tr>\n",
              "    <tr>\n",
              "      <th>18/01/2021</th>\n",
              "      <th>Monday</th>\n",
              "      <th>All</th>\n",
              "      <td>Non-food manufactured goods</td>\n",
              "      <td>$</td>\n",
              "      <td>197000000</td>\n",
              "      <td>2082000000</td>\n",
              "    </tr>\n",
              "    <tr>\n",
              "      <th>19/01/2021</th>\n",
              "      <th>Tuesday</th>\n",
              "      <th>All</th>\n",
              "      <td>Non-food manufactured goods</td>\n",
              "      <td>$</td>\n",
              "      <td>195000000</td>\n",
              "      <td>2277000000</td>\n",
              "    </tr>\n",
              "    <tr>\n",
              "      <th>20/01/2021</th>\n",
              "      <th>Wednesday</th>\n",
              "      <th>All</th>\n",
              "      <td>Non-food manufactured goods</td>\n",
              "      <td>$</td>\n",
              "      <td>155000000</td>\n",
              "      <td>2431000000</td>\n",
              "    </tr>\n",
              "  </tbody>\n",
              "</table>\n",
              "</div>"
            ],
            "text/plain": [
              "                                            ood manufactured goods  $  \\\n",
              "Imports 2021 16/01/2021 Saturday  All  Non-food manufactured goods  $   \n",
              "             17/01/2021 Sunday    All  Non-food manufactured goods  $   \n",
              "             18/01/2021 Monday    All  Non-food manufactured goods  $   \n",
              "             19/01/2021 Tuesday   All  Non-food manufactured goods  $   \n",
              "             20/01/2021 Wednesday All  Non-food manufactured goods  $   \n",
              "\n",
              "                                       200000000  1829000000  \n",
              "Imports 2021 16/01/2021 Saturday  All   26000000  1855000000  \n",
              "             17/01/2021 Sunday    All   30000000  1885000000  \n",
              "             18/01/2021 Monday    All  197000000  2082000000  \n",
              "             19/01/2021 Tuesday   All  195000000  2277000000  \n",
              "             20/01/2021 Wednesday All  155000000  2431000000  "
            ]
          },
          "execution_count": 18,
          "metadata": {},
          "output_type": "execute_result"
        }
      ],
      "source": [
        "data2.head()"
      ]
    }
  ],
  "metadata": {
    "kernelspec": {
      "display_name": "Python (Pyodide)",
      "language": "python",
      "name": "python"
    },
    "language_info": {
      "codemirror_mode": {
        "name": "python",
        "version": 3
      },
      "file_extension": ".py",
      "mimetype": "text/x-python",
      "name": "python",
      "nbconvert_exporter": "python",
      "pygments_lexer": "ipython3",
      "version": "3.8"
    }
  },
  "nbformat": 4,
  "nbformat_minor": 4
}
